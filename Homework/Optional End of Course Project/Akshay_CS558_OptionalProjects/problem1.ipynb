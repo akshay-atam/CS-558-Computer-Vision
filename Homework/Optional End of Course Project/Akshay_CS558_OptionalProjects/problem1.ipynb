{
 "cells": [
  {
   "cell_type": "markdown",
   "id": "0d091283",
   "metadata": {},
   "source": [
    "# Image Data Association"
   ]
  },
  {
   "cell_type": "code",
   "execution_count": 1,
   "id": "479408e7",
   "metadata": {},
   "outputs": [],
   "source": [
    "from math import sqrt, pi, ceil\n",
    "from PIL import Image\n",
    "\n",
    "import numpy as np\n",
    "import os"
   ]
  },
  {
   "cell_type": "code",
   "execution_count": 2,
   "id": "c84caac1",
   "metadata": {},
   "outputs": [],
   "source": [
    "# initialize superset directories\n",
    "superset1_dir = \"images/superset_1/\"\n",
    "superset2_dir = \"images/superset_2/\""
   ]
  },
  {
   "cell_type": "code",
   "execution_count": 3,
   "id": "4e83aa71",
   "metadata": {},
   "outputs": [],
   "source": [
    "# create color histogram descriptor\n",
    "def color_histogram(directory, bin_count=8):\n",
    "    # create list of histogram for all images\n",
    "    hist = [[img_count, [0 for _ in range(bin_count*3)]] for img_count in range(len(os.listdir(directory)))]\n",
    "        \n",
    "    idx = 0\n",
    "    for fname in os.listdir(directory):\n",
    "        img = Image.open(directory + fname)\n",
    "        img_array = np.asarray(img)\n",
    "        \n",
    "        # get image dimensions\n",
    "        img_width, img_height, _ = img_array.shape\n",
    "        \n",
    "        # loop through entire image\n",
    "        for i in range(img_width):\n",
    "            for j in range(img_height):\n",
    "                # get RGB pixel values\n",
    "                R = int((img_array[i][j][0]) / (256 / bin_count))\n",
    "                G = int((img_array[i][j][1]) / (256 / bin_count)) + bin_count\n",
    "                B = int((img_array[i][j][2]) / (256 / bin_count)) + (bin_count * 2)\n",
    "                \n",
    "                hist[idx][1][R] += 1\n",
    "                hist[idx][1][G] += 1\n",
    "                hist[idx][1][B] += 1\n",
    "        idx += 1\n",
    "    \n",
    "    print(f\"Successfuly generated histograms from \\\"{directory}\\\" directory.\")\n",
    "    return hist"
   ]
  },
  {
   "cell_type": "code",
   "execution_count": 4,
   "id": "9c26a592",
   "metadata": {},
   "outputs": [
    {
     "name": "stdout",
     "output_type": "stream",
     "text": [
      "Successfuly generated histograms from \"images/superset_1/\" directory.\n",
      "Successfuly generated histograms from \"images/superset_2/\" directory.\n"
     ]
    }
   ],
   "source": [
    "superset1_hist = color_histogram(superset1_dir, bin_count=4)\n",
    "superset2_hist = color_histogram(superset2_dir, bin_count=4)"
   ]
  },
  {
   "cell_type": "code",
   "execution_count": 5,
   "id": "eba51a64",
   "metadata": {},
   "outputs": [],
   "source": [
    "# calculate euclidean distance between\n",
    "def euclidean_distance(x1, x2):\n",
    "    distance = float(0)\n",
    "    for i in range(len(x1)):\n",
    "        distance += ((x1[i] - x2[i]) ** 2)\n",
    "    return sqrt(distance)"
   ]
  },
  {
   "cell_type": "code",
   "execution_count": 6,
   "id": "2327c9ba",
   "metadata": {},
   "outputs": [],
   "source": [
    "# gaussian value\n",
    "def gaussian(distance, bandwidth):\n",
    "    return (1 / (bandwidth * sqrt(2 * pi))) * np.exp(-0.5 * ((distance / bandwidth)) ** 2)"
   ]
  },
  {
   "cell_type": "code",
   "execution_count": 7,
   "id": "78fa2709",
   "metadata": {},
   "outputs": [],
   "source": [
    "# mean shift algorithm using gaussian kernel\n",
    "# reference\n",
    "# https://stats.stackexchange.com/questions/61743/understanding-the-mean-shift-algorithm-with-gaussian-kernel\n",
    "def mean_shift(points, center, kernel_bw):\n",
    "    # create empty list of mean\n",
    "    mean = [0 for _ in range(len(points[0][1]))]\n",
    "    \n",
    "    for i in range(len(points[0][1])):\n",
    "        # initialization for gaussian kernel\n",
    "        numerator = float(0)\n",
    "        denominator = float(0)\n",
    "        \n",
    "        for point in points:\n",
    "            distance = euclidean_distance(point[1], center)\n",
    "            weight = gaussian(distance, kernel_bw)\n",
    "            numerator += (weight * point[1][i])\n",
    "            denominator += weight\n",
    "            \n",
    "        mean[i] = round(numerator/denominator)\n",
    "    \n",
    "    return mean"
   ]
  },
  {
   "cell_type": "code",
   "execution_count": 8,
   "id": "dbf3220f",
   "metadata": {},
   "outputs": [],
   "source": [
    "# generate clusters from the histograms, kernel bandwidth and max distance\n",
    "def generate_clusters(hists, max_distance, kernel_bw):\n",
    "    # create empty lists to store the clusters and mean value\n",
    "    final_clusters = []\n",
    "    mean_of_clusters = []\n",
    "    \n",
    "    # loop through each histograms\n",
    "    for hist in hists:\n",
    "        center = hist[1]\n",
    "        converged = False\n",
    "        while converged == False:\n",
    "            points = []\n",
    "            converged = True\n",
    "            for pt in hists:\n",
    "                if euclidean_distance(center, pt[1]) < max_distance:\n",
    "                    points.append(pt)\n",
    "            if (points != []):\n",
    "                mean = mean_shift(points, center, kernel_bw)\n",
    "            if mean != center:\n",
    "                center = mean\n",
    "                converged = False\n",
    "            else:\n",
    "                if mean not in mean_of_clusters:\n",
    "                    mean_of_clusters.append(mean)\n",
    "                    final_clusters.append([hist[0]])\n",
    "                else:\n",
    "                    idx = mean_of_clusters.index(mean)\n",
    "                    final_clusters[idx].append(hist[0])\n",
    "    #print(mean_of_clusters)\n",
    "    return final_clusters"
   ]
  },
  {
   "cell_type": "code",
   "execution_count": 9,
   "id": "5d3b8c5f",
   "metadata": {},
   "outputs": [],
   "source": [
    "# create image clusters from mean shift\n",
    "def create_image_clusters(directory, final_clusters, current_superset):\n",
    "    # count number of clusters from supersets 1 and 2\n",
    "    count = 1\n",
    "    \n",
    "    for cluster in final_clusters:\n",
    "        # initialize scale of output image\n",
    "        scale = ceil(sqrt(len(cluster)))\n",
    "        \n",
    "        # initialize starting point of image\n",
    "        # top-left (0,0)\n",
    "        x = 0\n",
    "        y = 0\n",
    "        \n",
    "        # list filenames\n",
    "        fname = os.listdir(directory)\n",
    "        \n",
    "        # load one image to get height and width of it\n",
    "        img = Image.open(directory + fname[0])\n",
    "        img_array = np.asarray(img)\n",
    "        img_width, img_height, _ = img_array.shape\n",
    "        \n",
    "        # initialize output image dimensions to fit cluster of images\n",
    "        out_img_width = img_width * scale\n",
    "        out_img_height = img_height * scale\n",
    "        \n",
    "        # initialize output image based on above dimensions\n",
    "        out_img = Image.new('RGB', (out_img_height, out_img_width), color='Black')\n",
    "        out_img = np.array(out_img)\n",
    "        \n",
    "        # initialize scaling factor\n",
    "        # increases to accomodate more images side by side\n",
    "        scaling_factor = 0\n",
    "        \n",
    "        # loop through cluster\n",
    "        for i in cluster:\n",
    "            img = Image.open(directory + fname[i])\n",
    "            img_array = np.asarray(img)\n",
    "            \n",
    "            # get image dimensions\n",
    "            row, column, _ = img_array.shape\n",
    "            \n",
    "            # loop through every image and add to output image\n",
    "            for i in range(row):\n",
    "                for j in range(column):\n",
    "                    out_img[x + i][y + j] = img_array[i][j]\n",
    "            \n",
    "            # this part ensures that every image is attached like a grid of images\n",
    "            y += img_height\n",
    "            scaling_factor += 1\n",
    "            \n",
    "            # when scaling factor reaches the scale, start over\n",
    "            if scaling_factor == scale:\n",
    "                x += img_width\n",
    "                y = 0\n",
    "                scaling_factor = 0\n",
    "        \n",
    "        # Save clustered image output\n",
    "        out_img = Image.fromarray(out_img)\n",
    "        out_img_fname = \"cluster_\" + str(count) + \"_\" + current_superset + \".png\"\n",
    "        out_img.save(\"output/problem1/\" + out_img_fname)\n",
    "        \n",
    "        # increment count for next cluster\n",
    "        count += 1\n",
    "        \n",
    "        print(f\"Successfuly generated clusters from \\\"{current_superset}\\\" directory.\")"
   ]
  },
  {
   "cell_type": "code",
   "execution_count": 10,
   "id": "d0a6dbb9",
   "metadata": {},
   "outputs": [
    {
     "name": "stdout",
     "output_type": "stream",
     "text": [
      "Successfuly generated clusters from \"ss1\" directory.\n",
      "Successfuly generated clusters from \"ss1\" directory.\n",
      "Successfuly generated clusters from \"ss1\" directory.\n",
      "Successfuly generated clusters from \"ss2\" directory.\n",
      "Successfuly generated clusters from \"ss2\" directory.\n"
     ]
    }
   ],
   "source": [
    "if __name__ == \"__main__\":\n",
    "    max_distance = 49500.0\n",
    "    kernel_bw = 27500.0\n",
    "    \n",
    "    # clusters from Superset 1\n",
    "    superset1_clusters = generate_clusters(superset1_hist, max_distance, kernel_bw)\n",
    "    current_superset = \"ss1\"\n",
    "    create_image_clusters(superset1_dir, superset1_clusters, current_superset)\n",
    "    \n",
    "    # clusters from Superset 2\n",
    "    superset2_clusters = generate_clusters(superset2_hist, max_distance, kernel_bw)\n",
    "    current_superset = \"ss2\"\n",
    "    create_image_clusters(superset2_dir, superset2_clusters, current_superset)"
   ]
  },
  {
   "cell_type": "code",
   "execution_count": null,
   "id": "423aac2f",
   "metadata": {},
   "outputs": [],
   "source": []
  }
 ],
 "metadata": {
  "kernelspec": {
   "display_name": "Python 3 (ipykernel)",
   "language": "python",
   "name": "python3"
  },
  "language_info": {
   "codemirror_mode": {
    "name": "ipython",
    "version": 3
   },
   "file_extension": ".py",
   "mimetype": "text/x-python",
   "name": "python",
   "nbconvert_exporter": "python",
   "pygments_lexer": "ipython3",
   "version": "3.9.13"
  }
 },
 "nbformat": 4,
 "nbformat_minor": 5
}
